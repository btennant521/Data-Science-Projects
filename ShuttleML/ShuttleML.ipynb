{
 "cells": [
  {
   "cell_type": "code",
   "execution_count": 2,
   "metadata": {},
   "outputs": [],
   "source": [
    "import pandas as pd\n",
    "import matplotlib.pyplot as plt\n",
    "import numpy as np"
   ]
  },
  {
   "cell_type": "markdown",
   "metadata": {},
   "source": [
    "# Objective"
   ]
  },
  {
   "cell_type": "markdown",
   "metadata": {},
   "source": [
    "The dataset I chose to use for this project comes from the UCI Machine Learning Respository. The UCI Machine Learning Repository is an open source database, created by the University of California in Irvine, where anyone can download data for machine learning or statistical analysis. The dataset has 10 columns; 9 numerical attributes and one outcome variable that classifies a particular type of event that occured. The goal of this project is to find the best classifier model for accurately predicting an event from this type of data in general. The data is based on real, past events so it is my goal to use it to develop a model that can accurately classify an event that is occuring based on data it is gathering from sensors on the ship during space-flight. A model like this could be used to predict and warn the engineers when conditions start to resemble those that lead to certain events that could be catastrophic. One of the things about this dataset that caught my attention is that the data comes from the NASA Space Shuttle (not sure which one). An engineer at NASA that is sending humans into space on giant missiles doesn't have much room for error so I hope to achieve an accuracy of at least 99%."
   ]
  },
  {
   "cell_type": "markdown",
   "metadata": {},
   "source": [
    "# Collection"
   ]
  },
  {
   "cell_type": "code",
   "execution_count": 3,
   "metadata": {},
   "outputs": [],
   "source": [
    "col_names = ['x1','x2','x3','x4','x5','x6','x7','x8','x9','label']\n",
    "shuttle_train = pd.read_csv('shuttle.trn',delimiter=' ',names=col_names)\n",
    "shuttle_test = pd.read_csv('shuttle.tst',delimiter=' ',names=col_names)"
   ]
  },
  {
   "cell_type": "code",
   "execution_count": 4,
   "metadata": {},
   "outputs": [
    {
     "data": {
      "text/html": [
       "<div>\n",
       "<style scoped>\n",
       "    .dataframe tbody tr th:only-of-type {\n",
       "        vertical-align: middle;\n",
       "    }\n",
       "\n",
       "    .dataframe tbody tr th {\n",
       "        vertical-align: top;\n",
       "    }\n",
       "\n",
       "    .dataframe thead th {\n",
       "        text-align: right;\n",
       "    }\n",
       "</style>\n",
       "<table border=\"1\" class=\"dataframe\">\n",
       "  <thead>\n",
       "    <tr style=\"text-align: right;\">\n",
       "      <th></th>\n",
       "      <th>x1</th>\n",
       "      <th>x2</th>\n",
       "      <th>x3</th>\n",
       "      <th>x4</th>\n",
       "      <th>x5</th>\n",
       "      <th>x6</th>\n",
       "      <th>x7</th>\n",
       "      <th>x8</th>\n",
       "      <th>x9</th>\n",
       "      <th>label</th>\n",
       "    </tr>\n",
       "  </thead>\n",
       "  <tbody>\n",
       "    <tr>\n",
       "      <th>0</th>\n",
       "      <td>50</td>\n",
       "      <td>21</td>\n",
       "      <td>77</td>\n",
       "      <td>0</td>\n",
       "      <td>28</td>\n",
       "      <td>0</td>\n",
       "      <td>27</td>\n",
       "      <td>48</td>\n",
       "      <td>22</td>\n",
       "      <td>2</td>\n",
       "    </tr>\n",
       "    <tr>\n",
       "      <th>1</th>\n",
       "      <td>55</td>\n",
       "      <td>0</td>\n",
       "      <td>92</td>\n",
       "      <td>0</td>\n",
       "      <td>0</td>\n",
       "      <td>26</td>\n",
       "      <td>36</td>\n",
       "      <td>92</td>\n",
       "      <td>56</td>\n",
       "      <td>4</td>\n",
       "    </tr>\n",
       "    <tr>\n",
       "      <th>2</th>\n",
       "      <td>53</td>\n",
       "      <td>0</td>\n",
       "      <td>82</td>\n",
       "      <td>0</td>\n",
       "      <td>52</td>\n",
       "      <td>-5</td>\n",
       "      <td>29</td>\n",
       "      <td>30</td>\n",
       "      <td>2</td>\n",
       "      <td>1</td>\n",
       "    </tr>\n",
       "    <tr>\n",
       "      <th>3</th>\n",
       "      <td>37</td>\n",
       "      <td>0</td>\n",
       "      <td>76</td>\n",
       "      <td>0</td>\n",
       "      <td>28</td>\n",
       "      <td>18</td>\n",
       "      <td>40</td>\n",
       "      <td>48</td>\n",
       "      <td>8</td>\n",
       "      <td>1</td>\n",
       "    </tr>\n",
       "    <tr>\n",
       "      <th>4</th>\n",
       "      <td>37</td>\n",
       "      <td>0</td>\n",
       "      <td>79</td>\n",
       "      <td>0</td>\n",
       "      <td>34</td>\n",
       "      <td>-26</td>\n",
       "      <td>43</td>\n",
       "      <td>46</td>\n",
       "      <td>2</td>\n",
       "      <td>1</td>\n",
       "    </tr>\n",
       "  </tbody>\n",
       "</table>\n",
       "</div>"
      ],
      "text/plain": [
       "   x1  x2  x3  x4  x5  x6  x7  x8  x9  label\n",
       "0  50  21  77   0  28   0  27  48  22      2\n",
       "1  55   0  92   0   0  26  36  92  56      4\n",
       "2  53   0  82   0  52  -5  29  30   2      1\n",
       "3  37   0  76   0  28  18  40  48   8      1\n",
       "4  37   0  79   0  34 -26  43  46   2      1"
      ]
     },
     "execution_count": 4,
     "metadata": {},
     "output_type": "execute_result"
    }
   ],
   "source": [
    "shuttle_train.head()"
   ]
  },
  {
   "cell_type": "markdown",
   "metadata": {},
   "source": [
    "# Preprocessing"
   ]
  },
  {
   "cell_type": "code",
   "execution_count": 5,
   "metadata": {},
   "outputs": [
    {
     "data": {
      "text/plain": [
       "x1       0\n",
       "x2       0\n",
       "x3       0\n",
       "x4       0\n",
       "x5       0\n",
       "x6       0\n",
       "x7       0\n",
       "x8       0\n",
       "x9       0\n",
       "label    0\n",
       "dtype: int64"
      ]
     },
     "execution_count": 5,
     "metadata": {},
     "output_type": "execute_result"
    }
   ],
   "source": [
    "shuttle_train.isnull().sum()"
   ]
  },
  {
   "cell_type": "code",
   "execution_count": 6,
   "metadata": {},
   "outputs": [
    {
     "data": {
      "text/plain": [
       "x1       0\n",
       "x2       0\n",
       "x3       0\n",
       "x4       0\n",
       "x5       0\n",
       "x6       0\n",
       "x7       0\n",
       "x8       0\n",
       "x9       0\n",
       "label    0\n",
       "dtype: int64"
      ]
     },
     "execution_count": 6,
     "metadata": {},
     "output_type": "execute_result"
    }
   ],
   "source": [
    "shuttle_test.isnull().sum()"
   ]
  },
  {
   "cell_type": "markdown",
   "metadata": {},
   "source": [
    "Neither our training or test set has any null values so that saves me a preprocessing step."
   ]
  },
  {
   "cell_type": "markdown",
   "metadata": {},
   "source": [
    "The dataset was provided already divided into training and test sets so instead of using the sci-kit learn function to split it we will just use pandas to pull the necessary columns. The first column in the dataset is the time, however, this dataset is already randomized so time is irrelevant so to prevent it from impacting my models I will not include it."
   ]
  },
  {
   "cell_type": "code",
   "execution_count": 31,
   "metadata": {},
   "outputs": [],
   "source": [
    "X_train = shuttle_train.iloc[:,1:-1]\n",
    "X_test = shuttle_test.iloc[:,1:-1]\n",
    "y_train = shuttle_train.iloc[:,-1]\n",
    "y_test = shuttle_test.iloc[:,-1]"
   ]
  },
  {
   "cell_type": "code",
   "execution_count": 44,
   "metadata": {},
   "outputs": [
    {
     "data": {
      "text/html": [
       "<div>\n",
       "<style scoped>\n",
       "    .dataframe tbody tr th:only-of-type {\n",
       "        vertical-align: middle;\n",
       "    }\n",
       "\n",
       "    .dataframe tbody tr th {\n",
       "        vertical-align: top;\n",
       "    }\n",
       "\n",
       "    .dataframe thead th {\n",
       "        text-align: right;\n",
       "    }\n",
       "</style>\n",
       "<table border=\"1\" class=\"dataframe\">\n",
       "  <thead>\n",
       "    <tr style=\"text-align: right;\">\n",
       "      <th></th>\n",
       "      <th>x2</th>\n",
       "      <th>x3</th>\n",
       "      <th>x4</th>\n",
       "      <th>x5</th>\n",
       "      <th>x6</th>\n",
       "      <th>x7</th>\n",
       "      <th>x8</th>\n",
       "      <th>x9</th>\n",
       "    </tr>\n",
       "  </thead>\n",
       "  <tbody>\n",
       "    <tr>\n",
       "      <th>0</th>\n",
       "      <td>21</td>\n",
       "      <td>77</td>\n",
       "      <td>0</td>\n",
       "      <td>28</td>\n",
       "      <td>0</td>\n",
       "      <td>27</td>\n",
       "      <td>48</td>\n",
       "      <td>22</td>\n",
       "    </tr>\n",
       "    <tr>\n",
       "      <th>1</th>\n",
       "      <td>0</td>\n",
       "      <td>92</td>\n",
       "      <td>0</td>\n",
       "      <td>0</td>\n",
       "      <td>26</td>\n",
       "      <td>36</td>\n",
       "      <td>92</td>\n",
       "      <td>56</td>\n",
       "    </tr>\n",
       "    <tr>\n",
       "      <th>2</th>\n",
       "      <td>0</td>\n",
       "      <td>82</td>\n",
       "      <td>0</td>\n",
       "      <td>52</td>\n",
       "      <td>-5</td>\n",
       "      <td>29</td>\n",
       "      <td>30</td>\n",
       "      <td>2</td>\n",
       "    </tr>\n",
       "    <tr>\n",
       "      <th>3</th>\n",
       "      <td>0</td>\n",
       "      <td>76</td>\n",
       "      <td>0</td>\n",
       "      <td>28</td>\n",
       "      <td>18</td>\n",
       "      <td>40</td>\n",
       "      <td>48</td>\n",
       "      <td>8</td>\n",
       "    </tr>\n",
       "    <tr>\n",
       "      <th>4</th>\n",
       "      <td>0</td>\n",
       "      <td>79</td>\n",
       "      <td>0</td>\n",
       "      <td>34</td>\n",
       "      <td>-26</td>\n",
       "      <td>43</td>\n",
       "      <td>46</td>\n",
       "      <td>2</td>\n",
       "    </tr>\n",
       "  </tbody>\n",
       "</table>\n",
       "</div>"
      ],
      "text/plain": [
       "   x2  x3  x4  x5  x6  x7  x8  x9\n",
       "0  21  77   0  28   0  27  48  22\n",
       "1   0  92   0   0  26  36  92  56\n",
       "2   0  82   0  52  -5  29  30   2\n",
       "3   0  76   0  28  18  40  48   8\n",
       "4   0  79   0  34 -26  43  46   2"
      ]
     },
     "execution_count": 44,
     "metadata": {},
     "output_type": "execute_result"
    }
   ],
   "source": [
    "X_train.head()"
   ]
  },
  {
   "cell_type": "markdown",
   "metadata": {},
   "source": [
    "In the next step I scale the exploratory variables for my models that require data on the same scale."
   ]
  },
  {
   "cell_type": "code",
   "execution_count": 32,
   "metadata": {},
   "outputs": [],
   "source": [
    "from sklearn.preprocessing import StandardScaler\n",
    "sc = StandardScaler()\n",
    "X_train_std = sc.fit_transform(X_train)\n",
    "X_test_std = sc.fit_transform(X_test)"
   ]
  },
  {
   "cell_type": "markdown",
   "metadata": {},
   "source": [
    "# Model analysis"
   ]
  },
  {
   "cell_type": "markdown",
   "metadata": {},
   "source": [
    "My first model is a logistic regression. I created models for both one-vs-all and multinomial logistic classifiers. Both have a high accuracy - the multinomial classifier being higher - but neither achieve the 99% accuracy we hope for."
   ]
  },
  {
   "cell_type": "code",
   "execution_count": 33,
   "metadata": {},
   "outputs": [
    {
     "name": "stdout",
     "output_type": "stream",
     "text": [
      "0.9354482758620689\n"
     ]
    }
   ],
   "source": [
    "from sklearn.linear_model import LogisticRegression\n",
    "lr = LogisticRegression(C=100.0,random_state=1,solver='lbfgs',multi_class='ovr')\n",
    "lr.fit(X_train_std,y_train)\n",
    "print(lr.score(X_test_std,y_test))"
   ]
  },
  {
   "cell_type": "code",
   "execution_count": 34,
   "metadata": {},
   "outputs": [
    {
     "name": "stdout",
     "output_type": "stream",
     "text": [
      "0.9664137931034483\n"
     ]
    },
    {
     "name": "stderr",
     "output_type": "stream",
     "text": [
      "/opt/conda/lib/python3.7/site-packages/sklearn/linear_model/_logistic.py:940: ConvergenceWarning: lbfgs failed to converge (status=1):\n",
      "STOP: TOTAL NO. of ITERATIONS REACHED LIMIT.\n",
      "\n",
      "Increase the number of iterations (max_iter) or scale the data as shown in:\n",
      "    https://scikit-learn.org/stable/modules/preprocessing.html\n",
      "Please also refer to the documentation for alternative solver options:\n",
      "    https://scikit-learn.org/stable/modules/linear_model.html#logistic-regression\n",
      "  extra_warning_msg=_LOGISTIC_SOLVER_CONVERGENCE_MSG)\n"
     ]
    }
   ],
   "source": [
    "from sklearn.linear_model import LogisticRegression\n",
    "lr2 = LogisticRegression(C=100.0,random_state=1,solver='lbfgs',multi_class='multinomial')\n",
    "lr2.fit(X_train_std,y_train)\n",
    "print(lr2.score(X_test_std,y_test))"
   ]
  },
  {
   "cell_type": "markdown",
   "metadata": {},
   "source": [
    "The next model I made was a support vector machine. It performed even better on predicting the test set but still did not achieve our goal. "
   ]
  },
  {
   "cell_type": "code",
   "execution_count": 35,
   "metadata": {},
   "outputs": [
    {
     "name": "stdout",
     "output_type": "stream",
     "text": [
      "0.9790344827586207\n"
     ]
    }
   ],
   "source": [
    "from sklearn.svm import SVC\n",
    "svm = SVC(kernel='linear',C=1.0,random_state=1)\n",
    "svm.fit(X_train_std,y_train)\n",
    "print(svm.score(X_test_std,y_test))"
   ]
  },
  {
   "cell_type": "markdown",
   "metadata": {},
   "source": [
    "The next model is decision tree. For this model I used the non-standardized data. As you can see, this achieved the level of accuracy I desired for this problem. From the plot of the tree, we can see that the decision tree converges at a depth of 9. Decreasing the max_depth affects the accuracy negatively."
   ]
  },
  {
   "cell_type": "code",
   "execution_count": 36,
   "metadata": {},
   "outputs": [
    {
     "data": {
      "text/plain": [
       "0.999448275862069"
      ]
     },
     "execution_count": 36,
     "metadata": {},
     "output_type": "execute_result"
    }
   ],
   "source": [
    "from sklearn.tree import DecisionTreeClassifier\n",
    "treefit = DecisionTreeClassifier(criterion='gini',max_depth=10,random_state=1)\n",
    "treefit.fit(X_train,y_train)\n",
    "treefit.score(X_test,y_test)"
   ]
  },
  {
   "cell_type": "code",
   "execution_count": 37,
   "metadata": {},
   "outputs": [
    {
     "data": {
      "image/png": "[encoded data removed]",
      "text/plain": [
       "<Figure size 432x288 with 1 Axes>"
      ]
     },
     "metadata": {
      "needs_background": "light"
     },
     "output_type": "display_data"
    }
   ],
   "source": [
    "from sklearn import tree\n",
    "tree.plot_tree(treefit)\n",
    "plt.show()"
   ]
  },
  {
   "cell_type": "markdown",
   "metadata": {},
   "source": [
    "The first tree is modeled on the full training set without any dimenstionality reduction. We will compare it to models with fewer components and choose the simplest model that achieves the desired accuracy."
   ]
  },
  {
   "cell_type": "markdown",
   "metadata": {},
   "source": [
    "Below is a loop that iterates through different numbers of components in the Principal Component Analysis. Each tuple in the list contains the number of components, the depth of the tree and the accuracy of the model. We can see that none of the models perform well with reduced dimensionality."
   ]
  },
  {
   "cell_type": "code",
   "execution_count": 39,
   "metadata": {},
   "outputs": [
    {
     "name": "stdout",
     "output_type": "stream",
     "text": [
      "[(2, 24, 0.6273103448275862), (3, 24, 0.640896551724138), (4, 19, 0.6798620689655173), (5, 18, 0.7399310344827587), (6, 17, 0.6892413793103448), (7, 16, 0.6916551724137932)]\n"
     ]
    }
   ],
   "source": [
    "from sklearn.decomposition import PCA\n",
    "tree_list=[]\n",
    "for i in range(2,8):\n",
    "    pca = PCA(n_components=i)\n",
    "    X_train_pca = pca.fit_transform(X_train_std)\n",
    "    X_test_pca = pca.fit_transform(X_test_std)\n",
    "    a_tree = DecisionTreeClassifier(criterion='gini',max_depth=30,random_state=1)\n",
    "    a_tree.fit(X_train_pca,y_train)\n",
    "    tree_list.append((i,a_tree.get_depth(),a_tree.score(X_test_pca,y_test)))\n",
    "print(tree_list)"
   ]
  },
  {
   "cell_type": "markdown",
   "metadata": {},
   "source": [
    "Finally we will see how an ensemble of decision trees performs. As you can see this still achieves the level of accuracy I want; in fact, its probability is 0.0002 higher. Now we have to chose the trade-off between computation time and accuracy. As I mentioned before, I imagine the margin for error on a space shuttle is extremely small so that slight difference in accuracy may be considerable in this case and therefore I may want to use the more accurate model. On the other hand, the purpose for this classifier would be to foresee potential hazards or problems in the shuttle so it may be vital that these decisions are made as as quickly as possible so I may choose to use the single decision tree to cut down on computation time. "
   ]
  },
  {
   "cell_type": "code",
   "execution_count": 43,
   "metadata": {},
   "outputs": [
    {
     "data": {
      "text/plain": [
       "0.9996551724137931"
      ]
     },
     "execution_count": 43,
     "metadata": {},
     "output_type": "execute_result"
    }
   ],
   "source": [
    "from sklearn.ensemble import RandomForestClassifier\n",
    "forest = RandomForestClassifier(criterion='gini',n_estimators=59,random_state=1,n_jobs=2)\n",
    "forest.fit(X_train,y_train)\n",
    "forest.score(X_test,y_test)"
   ]
  },
  {
   "cell_type": "markdown",
   "metadata": {},
   "source": [
    "## Summary"
   ]
  },
  {
   "cell_type": "markdown",
   "metadata": {},
   "source": [
    "In conclusion, I downloaded this dataset from the UCI Machine Learning Repository a free and open source database that allows anyone to download their datasets, often for machine learning or statistical analysis purposes. The data came in a .Z file initially so I had to extract it using 7-zip. After extraction, it is in the form of a text file with each value seperated by a space. To read this into my jupyter notebook I used the standard pandas read_csv function and just changed the delimiter to a space. The data came in seperate training and test files so I did not have to take the splitting step. The first explanatory variable in the dataset is time, however, the dataset was randomized making the time variable irrelevant, so I excluded it. That left me with 8 explanatory variables to use to classify an event into one of 7 different categories. I then scaled these 8 explanatory variables with the StandardScaler for the models that require variables be on the same scale. Since this data was gathered from the actual space shuttle during space-filght, there will be very little room for error so my goal for this project was to achieve an accuracy of at least 0.99 while avoiding overfitting. I modeled the data in a Logistic Regression, Support Vector Machine, a Decision Tree, and finally a Random Forest. All models performed well with accuracies in the high nineties but only the Decision Tree and the Random Forest achieved an accuracy of 99%. I also tried to determine if a Decision Tree would perform better with fewer components and found this to not be the case. The desired accuracy was only achieved with all 8 explanatory variables in the model. Finally, I had to choose between a Decision Tree and a Random Forest. The Random Forest has a higher accuracy by 0.0002 which may be negligible depending on the context and application of this model. If we want to continuously update the model as we get new data, then the random forest could be more computationally expensive than the decision tree. If we don't intend to alter the model after it is trained then we should use the random forest model because that small improvement in accuracy can be significant during space-flight. One significant thing that I learned was that Principal Component Analysis does not always improve the model."
   ]
  },
  {
   "cell_type": "code",
   "execution_count": null,
   "metadata": {},
   "outputs": [],
   "source": []
  }
 ],
 "metadata": {
  "kernelspec": {
   "display_name": "Python 3",
   "language": "python",
   "name": "python3"
  },
  "language_info": {
   "codemirror_mode": {
    "name": "ipython",
    "version": 3
   },
   "file_extension": ".py",
   "mimetype": "text/x-python",
   "name": "python",
   "nbconvert_exporter": "python",
   "pygments_lexer": "ipython3",
   "version": "3.7.6"
  }
 },
 "nbformat": 4,
 "nbformat_minor": 4
}
