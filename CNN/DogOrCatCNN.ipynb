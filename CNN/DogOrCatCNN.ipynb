{
 "cells": [
  {
   "cell_type": "code",
   "execution_count": 1,
   "metadata": {},
   "outputs": [
    {
     "name": "stderr",
     "output_type": "stream",
     "text": [
      "C:\\Users\\btenn\\anaconda3\\lib\\site-packages\\tensorflow\\python\\framework\\dtypes.py:516: FutureWarning: Passing (type, 1) or '1type' as a synonym of type is deprecated; in a future version of numpy, it will be understood as (type, (1,)) / '(1,)type'.\n",
      "  _np_qint8 = np.dtype([(\"qint8\", np.int8, 1)])\n",
      "C:\\Users\\btenn\\anaconda3\\lib\\site-packages\\tensorflow\\python\\framework\\dtypes.py:517: FutureWarning: Passing (type, 1) or '1type' as a synonym of type is deprecated; in a future version of numpy, it will be understood as (type, (1,)) / '(1,)type'.\n",
      "  _np_quint8 = np.dtype([(\"quint8\", np.uint8, 1)])\n",
      "C:\\Users\\btenn\\anaconda3\\lib\\site-packages\\tensorflow\\python\\framework\\dtypes.py:518: FutureWarning: Passing (type, 1) or '1type' as a synonym of type is deprecated; in a future version of numpy, it will be understood as (type, (1,)) / '(1,)type'.\n",
      "  _np_qint16 = np.dtype([(\"qint16\", np.int16, 1)])\n",
      "C:\\Users\\btenn\\anaconda3\\lib\\site-packages\\tensorflow\\python\\framework\\dtypes.py:519: FutureWarning: Passing (type, 1) or '1type' as a synonym of type is deprecated; in a future version of numpy, it will be understood as (type, (1,)) / '(1,)type'.\n",
      "  _np_quint16 = np.dtype([(\"quint16\", np.uint16, 1)])\n",
      "C:\\Users\\btenn\\anaconda3\\lib\\site-packages\\tensorflow\\python\\framework\\dtypes.py:520: FutureWarning: Passing (type, 1) or '1type' as a synonym of type is deprecated; in a future version of numpy, it will be understood as (type, (1,)) / '(1,)type'.\n",
      "  _np_qint32 = np.dtype([(\"qint32\", np.int32, 1)])\n",
      "C:\\Users\\btenn\\anaconda3\\lib\\site-packages\\tensorflow\\python\\framework\\dtypes.py:525: FutureWarning: Passing (type, 1) or '1type' as a synonym of type is deprecated; in a future version of numpy, it will be understood as (type, (1,)) / '(1,)type'.\n",
      "  np_resource = np.dtype([(\"resource\", np.ubyte, 1)])\n",
      "C:\\Users\\btenn\\anaconda3\\lib\\site-packages\\tensorboard\\compat\\tensorflow_stub\\dtypes.py:541: FutureWarning: Passing (type, 1) or '1type' as a synonym of type is deprecated; in a future version of numpy, it will be understood as (type, (1,)) / '(1,)type'.\n",
      "  _np_qint8 = np.dtype([(\"qint8\", np.int8, 1)])\n",
      "C:\\Users\\btenn\\anaconda3\\lib\\site-packages\\tensorboard\\compat\\tensorflow_stub\\dtypes.py:542: FutureWarning: Passing (type, 1) or '1type' as a synonym of type is deprecated; in a future version of numpy, it will be understood as (type, (1,)) / '(1,)type'.\n",
      "  _np_quint8 = np.dtype([(\"quint8\", np.uint8, 1)])\n",
      "C:\\Users\\btenn\\anaconda3\\lib\\site-packages\\tensorboard\\compat\\tensorflow_stub\\dtypes.py:543: FutureWarning: Passing (type, 1) or '1type' as a synonym of type is deprecated; in a future version of numpy, it will be understood as (type, (1,)) / '(1,)type'.\n",
      "  _np_qint16 = np.dtype([(\"qint16\", np.int16, 1)])\n",
      "C:\\Users\\btenn\\anaconda3\\lib\\site-packages\\tensorboard\\compat\\tensorflow_stub\\dtypes.py:544: FutureWarning: Passing (type, 1) or '1type' as a synonym of type is deprecated; in a future version of numpy, it will be understood as (type, (1,)) / '(1,)type'.\n",
      "  _np_quint16 = np.dtype([(\"quint16\", np.uint16, 1)])\n",
      "C:\\Users\\btenn\\anaconda3\\lib\\site-packages\\tensorboard\\compat\\tensorflow_stub\\dtypes.py:545: FutureWarning: Passing (type, 1) or '1type' as a synonym of type is deprecated; in a future version of numpy, it will be understood as (type, (1,)) / '(1,)type'.\n",
      "  _np_qint32 = np.dtype([(\"qint32\", np.int32, 1)])\n",
      "C:\\Users\\btenn\\anaconda3\\lib\\site-packages\\tensorboard\\compat\\tensorflow_stub\\dtypes.py:550: FutureWarning: Passing (type, 1) or '1type' as a synonym of type is deprecated; in a future version of numpy, it will be understood as (type, (1,)) / '(1,)type'.\n",
      "  np_resource = np.dtype([(\"resource\", np.ubyte, 1)])\n"
     ]
    }
   ],
   "source": [
    "import numpy as np \n",
    "import pandas as pd\n",
    "import tensorflow as tf"
   ]
  },
  {
   "cell_type": "markdown",
   "metadata": {},
   "source": [
    "## Experiment Objective"
   ]
  },
  {
   "cell_type": "markdown",
   "metadata": {},
   "source": [
    "The dataset I chose contains 10000 images of cats and 10000 images of dogs. I will use the images to train a convolutional neural network that I will use to classify new, unseen images of cats and dogs. I found the data on kaggle and downloaded the directories containing the images. Kaggle is open source and since they are only cats and dogs there are no ethical biases I have to worry about."
   ]
  },
  {
   "cell_type": "markdown",
   "metadata": {},
   "source": [
    "## Collection and Preprocessing"
   ]
  },
  {
   "cell_type": "markdown",
   "metadata": {},
   "source": [
    "The dataset's directory structure has seperate directories of training and test sets. The training and test directories are further divided into a cat directory and a dog directory. First I collect all jpg file paths then combine the training cats with training dogs and repeat for the test set."
   ]
  },
  {
   "cell_type": "code",
   "execution_count": 2,
   "metadata": {},
   "outputs": [],
   "source": [
    "import pathlib\n",
    "\n",
    "dog_trn_path = pathlib.Path('dataset/training_set/dogs')\n",
    "cat_trn_path = pathlib.Path('dataset/training_set/cats')\n",
    "dog_test_path = pathlib.Path('dataset/test_set/dogs')\n",
    "cat_test_path = pathlib.Path('dataset/test_set/cats')\n",
    "\n",
    "dog_trn_list = sorted([str(path) for path in dog_trn_path.glob('*.jpg')])\n",
    "cat_trn_list = sorted([str(path) for path in cat_trn_path.glob('*.jpg')])\n",
    "\n",
    "train_file_list = dog_trn_list+cat_trn_list\n",
    "\n",
    "dog_test_list = sorted([str(path) for path in dog_test_path.glob('*.jpg')])\n",
    "cat_test_list = sorted([str(path) for path in cat_test_path.glob('*.jpg')])\n",
    "\n",
    "test_file_list = dog_test_list+cat_test_list"
   ]
  },
  {
   "cell_type": "markdown",
   "metadata": {},
   "source": [
    "I created lists of variables based on if the image has 'dog' or 'cat' in the filename."
   ]
  },
  {
   "cell_type": "code",
   "execution_count": 4,
   "metadata": {},
   "outputs": [],
   "source": [
    "import os\n",
    "train_labels = [1 if 'dog' in os.path.basename(file) else 0 for file in train_file_list]\n",
    "test_labels = [1 if 'dog' in os.path.basename(file) else 0 for file in test_file_list]"
   ]
  },
  {
   "cell_type": "markdown",
   "metadata": {},
   "source": [
    "Function to read in the images, decode them a resize them. My computer didn't have enough memory for 64by64 pixel images so I had to compress them to 32x32."
   ]
  },
  {
   "cell_type": "code",
   "execution_count": 5,
   "metadata": {},
   "outputs": [],
   "source": [
    "def process_image(path, label):\n",
    "    image = tf.io.read_file(path)\n",
    "    image = tf.image.decode_png(image,channels=3)\n",
    "    image = tf.image.resize(image,[img_height,img_width])\n",
    "    image /= 255.0\n",
    "    return image, label\n",
    "\n",
    "img_height, img_width = 32,32\n",
    "BATCH_SIZE = 32\n",
    "num_epoch = 20"
   ]
  },
  {
   "cell_type": "code",
   "execution_count": 6,
   "metadata": {},
   "outputs": [],
   "source": [
    "trn = tf.data.Dataset.from_tensor_slices((train_file_list,train_labels)).map(process_image).shuffle(8000).repeat().batch(64)\n",
    "tst = tf.data.Dataset.from_tensor_slices((test_file_list,test_labels)).map(process_image).shuffle(2000).batch(64)"
   ]
  },
  {
   "cell_type": "markdown",
   "metadata": {},
   "source": [
    "## Model Creation"
   ]
  },
  {
   "cell_type": "markdown",
   "metadata": {},
   "source": [
    "I added two convolutional layers both with same padding to maintain the spatial dimensions of my images followed by max pooling to reduce the dimensions of the images to help with computation time."
   ]
  },
  {
   "cell_type": "code",
   "execution_count": 7,
   "metadata": {},
   "outputs": [
    {
     "name": "stdout",
     "output_type": "stream",
     "text": [
      "WARNING:tensorflow:From C:\\Users\\btenn\\anaconda3\\lib\\site-packages\\tensorflow\\python\\ops\\init_ops.py:1251: calling VarianceScaling.__init__ (from tensorflow.python.ops.init_ops) with dtype is deprecated and will be removed in a future version.\n",
      "Instructions for updating:\n",
      "Call initializer instance with the dtype argument instead of passing it to the constructor\n"
     ]
    }
   ],
   "source": [
    "cnn = tf.keras.Sequential([\n",
    "    tf.keras.layers.Conv2D(\n",
    "        32, (3, 3), padding='same', activation='relu'),\n",
    "    tf.keras.layers.MaxPooling2D((2, 2)),\n",
    "    \n",
    "    tf.keras.layers.Conv2D(\n",
    "        32, (3, 3), padding='same', activation='relu'),\n",
    "    tf.keras.layers.MaxPooling2D((2, 2)),\n",
    "\n",
    "])"
   ]
  },
  {
   "cell_type": "markdown",
   "metadata": {},
   "source": [
    "The following layers are fully connected classifier layer that requires an input of rank 2 so I include a flattening layer."
   ]
  },
  {
   "cell_type": "code",
   "execution_count": 8,
   "metadata": {},
   "outputs": [],
   "source": [
    "cnn.add(tf.keras.layers.Flatten())"
   ]
  },
  {
   "cell_type": "markdown",
   "metadata": {},
   "source": [
    "Add the first fully connected layer."
   ]
  },
  {
   "cell_type": "code",
   "execution_count": 9,
   "metadata": {},
   "outputs": [],
   "source": [
    "cnn.add(tf.keras.layers.Dense(units=64, activation = 'relu'))"
   ]
  },
  {
   "cell_type": "markdown",
   "metadata": {},
   "source": [
    "Add the dropout layer to help avoid over-fitting."
   ]
  },
  {
   "cell_type": "code",
   "execution_count": 10,
   "metadata": {},
   "outputs": [],
   "source": [
    "#cnn.add(tf.keras.layers.Dropout(rate=0.5))"
   ]
  },
  {
   "cell_type": "code",
   "execution_count": 11,
   "metadata": {},
   "outputs": [],
   "source": [
    "cnn.add(tf.keras.layers.Dense(units=64, activation = 'relu'))"
   ]
  },
  {
   "cell_type": "markdown",
   "metadata": {},
   "source": [
    "Finally we add a fully connected layer with one unit as the classifier for the model."
   ]
  },
  {
   "cell_type": "code",
   "execution_count": 12,
   "metadata": {},
   "outputs": [],
   "source": [
    "cnn.add(tf.keras.layers.Dense(units=1,activation=None))"
   ]
  },
  {
   "cell_type": "markdown",
   "metadata": {},
   "source": [
    "Above, I added the fully connected classifier layer as well as a output layer with a sigmoid activation function that will output the predicted value."
   ]
  },
  {
   "cell_type": "code",
   "execution_count": 13,
   "metadata": {},
   "outputs": [],
   "source": [
    "cnn.build(input_shape=(None,32, 32, 3))"
   ]
  },
  {
   "cell_type": "code",
   "execution_count": 14,
   "metadata": {},
   "outputs": [],
   "source": [
    "cnn.compile(optimizer=tf.keras.optimizers.Adam(),\n",
    "              loss=tf.keras.losses.BinaryCrossentropy(from_logits=True),\n",
    "              metrics=['accuracy']) # same as `tf.keras.metrics.SparseCategoricalAccuracy(name='accuracy')`\n"
   ]
  },
  {
   "cell_type": "markdown",
   "metadata": {},
   "source": [
    "My CNN is a binary classifier so I used the BinaryCrossEntrpy for my loss function and I used an Adam optimizer for its robustness with gradient-based optimization."
   ]
  },
  {
   "cell_type": "markdown",
   "metadata": {},
   "source": [
    "## Model Training"
   ]
  },
  {
   "cell_type": "code",
   "execution_count": 15,
   "metadata": {},
   "outputs": [
    {
     "name": "stdout",
     "output_type": "stream",
     "text": [
      "Model: \"sequential\"\n",
      "_________________________________________________________________\n",
      "Layer (type)                 Output Shape              Param #   \n",
      "=================================================================\n",
      "conv2d (Conv2D)              multiple                  896       \n",
      "_________________________________________________________________\n",
      "max_pooling2d (MaxPooling2D) multiple                  0         \n",
      "_________________________________________________________________\n",
      "conv2d_1 (Conv2D)            multiple                  9248      \n",
      "_________________________________________________________________\n",
      "max_pooling2d_1 (MaxPooling2 multiple                  0         \n",
      "_________________________________________________________________\n",
      "flatten (Flatten)            multiple                  0         \n",
      "_________________________________________________________________\n",
      "dense (Dense)                multiple                  131136    \n",
      "_________________________________________________________________\n",
      "dense_1 (Dense)              multiple                  4160      \n",
      "_________________________________________________________________\n",
      "dense_2 (Dense)              multiple                  65        \n",
      "=================================================================\n",
      "Total params: 145,505\n",
      "Trainable params: 145,505\n",
      "Non-trainable params: 0\n",
      "_________________________________________________________________\n"
     ]
    }
   ],
   "source": [
    "cnn.summary()"
   ]
  },
  {
   "cell_type": "code",
   "execution_count": 16,
   "metadata": {},
   "outputs": [
    {
     "name": "stdout",
     "output_type": "stream",
     "text": [
      "WARNING:tensorflow:From C:\\Users\\btenn\\anaconda3\\lib\\site-packages\\tensorflow\\python\\ops\\nn_impl.py:180: add_dispatch_support.<locals>.wrapper (from tensorflow.python.ops.array_ops) is deprecated and will be removed in a future version.\n",
      "Instructions for updating:\n",
      "Use tf.where in 2.0, which has the same broadcast rule as np.where\n",
      "Epoch 1/20\n",
      "125/125 [==============================] - 34s 274ms/step - loss: 0.6757 - acc: 0.5210 - val_loss: 0.6247 - val_acc: 0.5940\n",
      "Epoch 2/20\n",
      "125/125 [==============================] - 23s 180ms/step - loss: 0.5877 - acc: 0.6650 - val_loss: 0.5564 - val_acc: 0.7095\n",
      "Epoch 3/20\n",
      "125/125 [==============================] - 22s 180ms/step - loss: 0.5433 - acc: 0.7097 - val_loss: 0.5337 - val_acc: 0.7150\n",
      "Epoch 4/20\n",
      "125/125 [==============================] - 22s 180ms/step - loss: 0.5098 - acc: 0.7372 - val_loss: 0.5537 - val_acc: 0.6755\n",
      "Epoch 5/20\n",
      "125/125 [==============================] - 23s 182ms/step - loss: 0.4825 - acc: 0.7554 - val_loss: 0.5685 - val_acc: 0.6875\n",
      "Epoch 6/20\n",
      "125/125 [==============================] - 23s 182ms/step - loss: 0.4479 - acc: 0.7784 - val_loss: 0.5389 - val_acc: 0.7500\n",
      "Epoch 7/20\n",
      "125/125 [==============================] - 23s 182ms/step - loss: 0.4312 - acc: 0.7943 - val_loss: 0.4998 - val_acc: 0.7560\n",
      "Epoch 8/20\n",
      "125/125 [==============================] - 23s 182ms/step - loss: 0.4002 - acc: 0.8036 - val_loss: 0.5419 - val_acc: 0.7255\n",
      "Epoch 9/20\n",
      "125/125 [==============================] - 23s 181ms/step - loss: 0.3799 - acc: 0.8226 - val_loss: 0.5019 - val_acc: 0.7650\n",
      "Epoch 10/20\n",
      "125/125 [==============================] - 23s 181ms/step - loss: 0.3447 - acc: 0.8409 - val_loss: 0.6031 - val_acc: 0.7235\n",
      "Epoch 11/20\n",
      "125/125 [==============================] - 23s 181ms/step - loss: 0.3179 - acc: 0.8533 - val_loss: 0.5632 - val_acc: 0.7495\n",
      "Epoch 12/20\n",
      "125/125 [==============================] - 23s 182ms/step - loss: 0.2979 - acc: 0.8649 - val_loss: 0.5200 - val_acc: 0.7720\n",
      "Epoch 13/20\n",
      "125/125 [==============================] - 23s 182ms/step - loss: 0.2651 - acc: 0.8808 - val_loss: 0.5763 - val_acc: 0.7665\n",
      "Epoch 14/20\n",
      "125/125 [==============================] - 23s 182ms/step - loss: 0.2404 - acc: 0.8967 - val_loss: 0.5968 - val_acc: 0.7610\n",
      "Epoch 15/20\n",
      "125/125 [==============================] - 23s 182ms/step - loss: 0.2211 - acc: 0.9016 - val_loss: 0.6643 - val_acc: 0.7640\n",
      "Epoch 16/20\n",
      "125/125 [==============================] - 23s 181ms/step - loss: 0.1931 - acc: 0.9146 - val_loss: 0.6773 - val_acc: 0.7575\n",
      "Epoch 17/20\n",
      "125/125 [==============================] - 23s 180ms/step - loss: 0.1704 - acc: 0.9283 - val_loss: 0.7015 - val_acc: 0.7610\n",
      "Epoch 18/20\n",
      "125/125 [==============================] - 23s 181ms/step - loss: 0.1380 - acc: 0.9417 - val_loss: 0.8030 - val_acc: 0.7600\n",
      "Epoch 19/20\n",
      "125/125 [==============================] - 23s 180ms/step - loss: 0.1149 - acc: 0.9524 - val_loss: 0.7991 - val_acc: 0.7625\n",
      "Epoch 20/20\n",
      "125/125 [==============================] - 23s 182ms/step - loss: 0.1026 - acc: 0.9609 - val_loss: 0.8896 - val_acc: 0.7520\n"
     ]
    }
   ],
   "source": [
    "history = cnn.fit(trn, validation_data = tst, epochs = 20, steps_per_epoch = np.ceil(8000/64))"
   ]
  },
  {
   "cell_type": "markdown",
   "metadata": {},
   "source": [
    "## Visualization"
   ]
  },
  {
   "cell_type": "code",
   "execution_count": 63,
   "metadata": {},
   "outputs": [
    {
     "data": {
      "text/plain": [
       "Text(0, 0.5, 'Accuracy')"
      ]
     },
     "execution_count": 63,
     "metadata": {},
     "output_type": "execute_result"
    },
    {
     "data": {
      "image/png": "[encoded data removed]",
      "text/plain": [
       "<Figure size 864x288 with 2 Axes>"
      ]
     },
     "metadata": {
      "needs_background": "light"
     },
     "output_type": "display_data"
    }
   ],
   "source": [
    "import matplotlib.pyplot as plt\n",
    "\n",
    "my_hist = history.history\n",
    "x_arr = np.arange(len(my_hist['loss'])) + 1\n",
    "\n",
    "fig = plt.figure(figsize=(12, 4))\n",
    "ax = fig.add_subplot(1, 2, 1)\n",
    "ax.plot(x_arr, my_hist['loss'], '-o', label='Train loss')\n",
    "ax.plot(x_arr, my_hist['val_loss'], '--<', label='Validation loss')\n",
    "ax.legend(fontsize=15)\n",
    "ax.set_xlabel('Epoch', size=15)\n",
    "ax.set_ylabel('Loss', size=15)\n",
    "\n",
    "ax = fig.add_subplot(1, 2, 2)\n",
    "ax.plot(x_arr, my_hist['acc'], '-o', label='Train acc.')\n",
    "ax.plot(x_arr, my_hist['val_acc'], '--<', label='Validation acc.')\n",
    "ax.legend(fontsize=15)\n",
    "ax.set_xlabel('Epoch', size=15)\n",
    "ax.set_ylabel('Accuracy', size=15)"
   ]
  },
  {
   "cell_type": "markdown",
   "metadata": {},
   "source": [
    "My graphs do not look as good as I would like them to. My training set accuracy and loss looks great but the validation curves do not look how I would like them to. My guess is that it is due to overfitting. I may add some dropout layers to reduce over-fitting if I have time."
   ]
  },
  {
   "cell_type": "markdown",
   "metadata": {},
   "source": [
    "As you can see my model did train when using a different method. There are some changes I could add to avoid overfitting but the main problem I am having is the input function."
   ]
  },
  {
   "cell_type": "code",
   "execution_count": 30,
   "metadata": {},
   "outputs": [
    {
     "data": {
      "text/plain": [
       "Text(0, 0.5, 'Accuracy')"
      ]
     },
     "execution_count": 30,
     "metadata": {},
     "output_type": "execute_result"
    },
    {
     "data": {
      "image/png": "[encoded data removed]",
      "text/plain": [
       "<Figure size 864x288 with 2 Axes>"
      ]
     },
     "metadata": {
      "needs_background": "light"
     },
     "output_type": "display_data"
    }
   ],
   "source": [
    "import matplotlib.pyplot as plt\n",
    "\n",
    "my_hist2 = hist.history\n",
    "x_arr = np.arange(len(my_hist2['loss'])) + 1\n",
    "\n",
    "fig = plt.figure(figsize=(12, 4))\n",
    "ax = fig.add_subplot(1, 2, 1)\n",
    "ax.plot(x_arr, my_hist2['loss'], '-o', label='Train loss')\n",
    "ax.plot(x_arr, my_hist2['val_loss'], '--<', label='Validation loss')\n",
    "ax.legend(fontsize=15)\n",
    "ax.set_xlabel('Epoch', size=15)\n",
    "ax.set_ylabel('Loss', size=15)\n",
    "\n",
    "ax = fig.add_subplot(1, 2, 2)\n",
    "ax.plot(x_arr, my_hist2['accuracy'], '-o', label='Train acc.')\n",
    "ax.plot(x_arr, my_hist2['val_accuracy'], '--<', label='Validation acc.')\n",
    "ax.legend(fontsize=15)\n",
    "ax.set_xlabel('Epoch', size=15)\n",
    "ax.set_ylabel('Accuracy', size=15)"
   ]
  },
  {
   "cell_type": "markdown",
   "metadata": {},
   "source": [
    "Above are the results of the model after adding the dropout layer. Unfortunately it still shows signs of overfitting."
   ]
  },
  {
   "cell_type": "code",
   "execution_count": null,
   "metadata": {},
   "outputs": [],
   "source": []
  }
 ],
 "metadata": {
  "kernelspec": {
   "display_name": "Python 3",
   "language": "python",
   "name": "python3"
  },
  "language_info": {
   "codemirror_mode": {
    "name": "ipython",
    "version": 3
   },
   "file_extension": ".py",
   "mimetype": "text/x-python",
   "name": "python",
   "nbconvert_exporter": "python",
   "pygments_lexer": "ipython3",
   "version": "3.7.6"
  }
 },
 "nbformat": 4,
 "nbformat_minor": 4
}
